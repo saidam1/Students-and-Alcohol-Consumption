{
 "cells": [
  {
   "cell_type": "markdown",
   "metadata": {},
   "source": [
    "# Students and Alcohol Consumption\n",
    "\n",
    "### By: Saida Muktar"
   ]
  },
  {
   "cell_type": "markdown",
   "metadata": {},
   "source": [
    "## Abstract\n",
    "\n",
    "Drinking has become a norm for many young people. More and more younger people have started to get into drinking and drugs. This report looks at students at two different schools, and checks what affects their alcholol consumption, and checks how alcohol consumption and school grades could be correlated. \n",
    "\n",
    "  * In the first section the report will go over a basic introduction of the topic, and research questions.\n",
    "  * In the second section the report will go over obtaining and analyzing the Data\n",
    "  * In the third section the report will go over Data Cleaning\n",
    "  * In the fourth section the report will go over Feature Engineering and Modeling\n",
    "  * In the final section the report will give a conclusion and interpretation."
   ]
  },
  {
   "cell_type": "markdown",
   "metadata": {},
   "source": [
    "## Introduction\n",
    "\n",
    "Is it possible for us to create a machine learning algorithm that will tell us if a student is passing or failing thier class based on thier family stauts, free time, and alcohol consumption?\n",
    "\n",
    "You would not be suprised if someone were to tell you that everyday drinking will cause a toll on your body which will probablly make an effect on your activities like your school work. \n",
    "\n",
    "In United States, one in four individuals between the ages of 12 and 20 drinks alcohol on a monthly basis, and the ratio changes to five or more drinks every two weeks for a similar proportion of 12th graders. Alcohol consumption among students is generally viewed as a socially important topic and is a reason of concern among many parents and school administrators. In the past some of the researches have been conducted that has shown alcohol consumption negatively affects students as they are not able to balance out their academic work and social life causing potential dropouts and failing classes. On the contrary some researches have shown that drinking alcohol has no significant effect on the student’s performance. So, the objective of this research is to successfully learn if drinking alcohol has any effect on student’s final grades or not and to find out other significant factors that helps in explaining grades of a student.\n",
    "\n",
    "https://medium.com/analytics-vidhya/effect-of-alcohol-use-on-academic-performance-of-school-students-c9ed44dafbba"
   ]
  },
  {
   "cell_type": "markdown",
   "metadata": {},
   "source": [
    "## Research Question\n",
    "\n",
    "* Is it possible to shed light on the correlation between student grades and alcohol consumption through a model that will predic if a student will either fail or pass their class based on their alcohol consumption throughout the week or weekend, while taking into consideration other factors like age, family status, freetime and some more?"
   ]
  },
  {
   "cell_type": "markdown",
   "metadata": {},
   "source": [
    "## Exploratory Data Analysis\n",
    "\n",
    "This report will be using the student alcohol consumption from Kaggle (https://www.kaggle.com/prashant111/student-alcohol-consumption).\n",
    "\n",
    "There were two datasets one for Math classes and the other for Portugese classes. For data cleaning, we wanted to use all the columns in the datasets, but we also want to use both datasets. In order to do that we concatted the two data sets into one big one. \n",
    "\n",
    "We also added the grades of the students as a pass or fail. If they got above 50% they passed and below they failed. That was done using data.loc.\n"
   ]
  },
  {
   "cell_type": "markdown",
   "metadata": {},
   "source": [
    "This data had some different columns that could have been studied. The first thing that we wanted to do is check the coorelation between parents relationship and how much the students drink. There could be a lot of reasons that students get into alcohol, one of them being not having a good relationship at home. In order to analyze that we check how much students drink based on whether their parents are together or not.\n",
    "\n",
    "![image](https://user-images.githubusercontent.com/70491460/101427634-414dc900-38cd-11eb-9184-63c596a1bd2b.png)\n",
    "\n",
    "![image](https://user-images.githubusercontent.com/70491460/101427705-5cb8d400-38cd-11eb-8367-619d796b54b7.png)\n",
    "\n",
    "The two bar graphs above show weekday and weekend drinking of thosw whose parents are togethere and apart. \n",
    "\n"
   ]
  },
  {
   "cell_type": "markdown",
   "metadata": {},
   "source": [
    "We then wanted to check how age affects alcohol consumption. The first graph below shows the percentage of different ages within our data.\n",
    "\n",
    "![image](https://user-images.githubusercontent.com/70491460/101428092-10ba5f00-38ce-11eb-9b14-7ca9428b68d3.png)\n",
    "\n",
    "The next two graph below show us the correlation between alcohol consumption and age, during the weekay and the weekend. \n",
    "\n",
    "\n",
    "![image](https://user-images.githubusercontent.com/70491460/101429059-0305d900-38d0-11eb-869d-165c506ccd7c.png)\n",
    " \n",
    " ![image](https://user-images.githubusercontent.com/70491460/101429180-4ceebf00-38d0-11eb-92d1-80a49f5cd618.png)\n",
    "\n"
   ]
  },
  {
   "cell_type": "markdown",
   "metadata": {},
   "source": [
    "Next we will look at the correlation between gender and alcohol consumption. Does gender have an infulence on it?\n",
    "\n",
    "![image](https://user-images.githubusercontent.com/70491460/101430551-3ac25000-38d3-11eb-9672-b6b247f25ab4.png)\n",
    "\n",
    "![image](https://user-images.githubusercontent.com/70491460/101430612-54fc2e00-38d3-11eb-9dee-284ddbf019f8.png)\n",
    "\n",
    "The two graphs above show the ratio of females and males, and how much they drink during the week and during the weekend."
   ]
  },
  {
   "cell_type": "markdown",
   "metadata": {},
   "source": [
    "The final thing we are going to analyze from our data, is checking the correlation between alcohol consumption and faliure or passing of classes.\n",
    "\n",
    "![image](https://user-images.githubusercontent.com/70491460/101434598-da361180-38d8-11eb-8981-0a51d794a533.png)\n",
    "\n",
    "As seen in the graph above the ratio of students that fail starts getting higher as the alcohol they are consuming increases.\n",
    "\n",
    "![image](https://user-images.githubusercontent.com/70491460/101434652-f174ff00-38d8-11eb-9dc1-1f42adface46.png)\n",
    "\n",
    "From the graph above we see that the failing of classes increases as the consumption of alcohol increases. \n",
    "\n",
    "When we compare the weekend and weekday, we see that there is more drinking during the weekend and also thus more faliure that occurs, than drinking just a little bit throughout the week."
   ]
  },
  {
   "cell_type": "markdown",
   "metadata": {},
   "source": [
    "## Feature Engineering and Modeling\n",
    "\n",
    "Now that we have analyzed the data, we know sort of what to expect if the machine were to predict if a student fails or passes a class based of their parent status, age, gendery and other conditions, let's get into training the data.\n",
    "\n",
    "In order to train the data we must first change the 'objects' in our data set into binaries. After we do that we will create a new dataset with the numbers that we had from our data and the new dummydatas we just obtained. \n",
    "\n",
    "The first step was to make sure that the 'object' types in our data were changed into binary and we used pd.get_dummies in order to achieve that. We then appended the other numerical datas from the original data to get our final training dataframe.\n",
    "\n",
    "There were five different models that were tested before choosing the besst model in order to train this data. The method used in order to check the best model was cross validation. These were the resultls from the cross validation of each model we tested.\n",
    "\n",
    "* KNeighborsClassifier\n",
    "    For this we used n_neighbors set to 2 and a leaf_size of 20.\n",
    "    * Cross-validation\n",
    "        * test score: 0.99178 +/- 0.00512556\n",
    "        * train score: 0.99452 +/- 0.0016777\n",
    "* LogisticRegression\n",
    "    For this we used random_stat as 0 and let all the other parameters be the same\n",
    "    * Cross-validation\n",
    "        * test score: 0.96712 +/- 0.00512556\n",
    "        * train score: 0.983904 +/- 0.00205479\n",
    "* DecisionTreeClassifier\n",
    "    For this we used the criterion 'gini' with a max_depth of 4 and a random state of 1\n",
    "    * Cross-validation\n",
    "        * test score: 1 +/- 0\n",
    "        * train score: 1 +/- 0\n",
    "* RandomForestClassifier\n",
    "    For this we used the criterion 'gini' with min_samples_leaf of 1 and a max_depth of 5\n",
    "    * Cross-validation\n",
    "        * test score: 1 +/- 0\n",
    "        * train score: 1 +/- 0\n",
    "* GradientBoostingClassifier\n",
    "    For this we did not pass through anything we used pythons original parameters without changing anything\n",
    "    * Cross-validation\n",
    "        * test score: 1 +/- 0\n",
    "        * train score: 1 +/- 0\n",
    "        \n",
    "      "
   ]
  },
  {
   "cell_type": "markdown",
   "metadata": {},
   "source": [
    "Above we have trained the different models to be abe to predict the grade of the students based on the datas given. After using cross validation to check the best method we decided to go with is the KNeighbor classifier, since it had the highest percentge of train score and test score. It showed us that this model is the one that is learning the most and it is also not just memorizzing but actually learning.\n",
    "The reason we didn't use the one with 1 is because there might have been some erros and thus decided to go with the 0.99 score."
   ]
  },
  {
   "cell_type": "markdown",
   "metadata": {},
   "source": [
    "Now that we have a model to work with we will check the accuracy for a prediction."
   ]
  },
  {
   "cell_type": "markdown",
   "metadata": {},
   "source": [
    "The accuracy score obtained for the KNeighbor classifier model was an 86.43% , with a confusion matrix of the graph shown below.\n",
    "\n",
    "![image](https://user-images.githubusercontent.com/70491460/101442767-fd1cf180-38e9-11eb-846d-4eb4461eb88d.png)"
   ]
  },
  {
   "cell_type": "markdown",
   "metadata": {},
   "source": [
    "## Interpretations\n",
    "\n",
    "As shown above the model we have chosen has an accuracy score of ~96.4%.\n",
    "\n",
    "This model as seen in the heatmap above has predicted students' grades to be failing 108 time, and to be passing 203 times.\n",
    "\n",
    "It also predicted 3 people to have failed when they actully had passed. \n",
    "\n",
    "This is a very good prediction considering everything that was put into it and could be very accurate.\n",
    "\n",
    "The only problem with this is that there weren't a lot of data sets in the data in the first place so it could not be that accurate."
   ]
  },
  {
   "cell_type": "markdown",
   "metadata": {},
   "source": [
    "## Conclusion"
   ]
  },
  {
   "cell_type": "markdown",
   "metadata": {},
   "source": [
    "In conclusion, this model was sufficient to predict the grades of students without a lot of error, based on their alcohol consumption.\n",
    "\n",
    "From the previous graphs that were done for the data analysis it can be concluded that the reason students get into drinking alcohol could be a lot of things including, their parents status their age, ther gender, and their freetime could all have a play on it.\n",
    "\n",
    "At the end of the day it is obvious that there is a correlation between alcohol consumption and student's grades.\n",
    "\n",
    "For future studies if theere is a dataset where we can compare studetns grades before and after they started using alcohol it would make this study much better and accurate."
   ]
  },
  {
   "cell_type": "code",
   "execution_count": null,
   "metadata": {},
   "outputs": [],
   "source": []
  }
 ],
 "metadata": {
  "kernelspec": {
   "display_name": "Python 3",
   "language": "python",
   "name": "python3"
  },
  "language_info": {
   "codemirror_mode": {
    "name": "ipython",
    "version": 3
   },
   "file_extension": ".py",
   "mimetype": "text/x-python",
   "name": "python",
   "nbconvert_exporter": "python",
   "pygments_lexer": "ipython3",
   "version": "3.8.3"
  }
 },
 "nbformat": 4,
 "nbformat_minor": 4
}
